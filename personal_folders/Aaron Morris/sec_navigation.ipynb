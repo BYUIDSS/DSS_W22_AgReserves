{
 "cells": [
  {
   "cell_type": "code",
   "execution_count": 1,
   "metadata": {},
   "outputs": [],
   "source": [
    "from selenium import webdriver\n",
    "from webdriver_manager.chrome import ChromeDriverManager\n",
    "from time import sleep"
   ]
  },
  {
   "cell_type": "code",
   "execution_count": 6,
   "metadata": {},
   "outputs": [
    {
     "name": "stderr",
     "output_type": "stream",
     "text": [
      "\n",
      "\n",
      "====== WebDriver manager ======\n",
      "Current google-chrome version is 97.0.4692\n",
      "Get LATEST chromedriver version for 97.0.4692 google-chrome\n",
      "Driver [/Users/aaronmorris/.wdm/drivers/chromedriver/mac64/97.0.4692.71/chromedriver] found in cache\n",
      "/var/folders/6z/j_nl9g2s2q57q4c0dg1sm14r0000gn/T/ipykernel_2887/474636706.py:5: DeprecationWarning: executable_path has been deprecated, please pass in a Service object\n",
      "  driver = webdriver.Chrome(ChromeDriverManager().install())\n",
      "/var/folders/6z/j_nl9g2s2q57q4c0dg1sm14r0000gn/T/ipykernel_2887/474636706.py:11: DeprecationWarning: find_element_by_* commands are deprecated. Please use find_element() instead\n",
      "  driver.find_element_by_xpath('//*[@id=\"show-full-search-form\"]').click()\n",
      "/var/folders/6z/j_nl9g2s2q57q4c0dg1sm14r0000gn/T/ipykernel_2887/474636706.py:13: DeprecationWarning: find_element_by_* commands are deprecated. Please use find_element() instead\n",
      "  driver.find_element_by_xpath('//*[@id=\"entity-full-form\"]').send_keys(company_name)\n",
      "/var/folders/6z/j_nl9g2s2q57q4c0dg1sm14r0000gn/T/ipykernel_2887/474636706.py:15: DeprecationWarning: find_element_by_* commands are deprecated. Please use find_element() instead\n",
      "  driver.find_element_by_xpath('//*[@id=\"search\"]').click()\n",
      "/var/folders/6z/j_nl9g2s2q57q4c0dg1sm14r0000gn/T/ipykernel_2887/474636706.py:17: DeprecationWarning: find_element_by_* commands are deprecated. Please use find_element() instead\n",
      "  driver.find_element_by_xpath('//*[@id=\"headingTwo2\"]/a').click()\n",
      "/var/folders/6z/j_nl9g2s2q57q4c0dg1sm14r0000gn/T/ipykernel_2887/474636706.py:19: DeprecationWarning: find_element_by_* commands are deprecated. Please use find_element() instead\n",
      "  driver.find_element_by_xpath('//*[@id=\"collapseTwo2\"]/div/table/tbody/tr[4]/td/a/span[2]').click()\n",
      "/var/folders/6z/j_nl9g2s2q57q4c0dg1sm14r0000gn/T/ipykernel_2887/474636706.py:21: DeprecationWarning: find_element_by_* commands are deprecated. Please use find_element() instead\n",
      "  driver.find_element_by_xpath('//*[@id=\"hits\"]/table/tbody/tr[1]/td[1]/a').click()\n",
      "/var/folders/6z/j_nl9g2s2q57q4c0dg1sm14r0000gn/T/ipykernel_2887/474636706.py:23: DeprecationWarning: find_element_by_* commands are deprecated. Please use find_element() instead\n",
      "  driver.find_element_by_xpath('//*[@id=\"open-file\"]/button').click()\n"
     ]
    }
   ],
   "source": [
    "# edgar database url and company name to search for\n",
    "url = 'https://www.sec.gov/edgar/search/'\n",
    "company_name = \"Gladstone Land Corp\"\n",
    "# creates browser \n",
    "driver = webdriver.Chrome(ChromeDriverManager().install())\n",
    "\n",
    "# navigates through sec website to search for the specified company name\n",
    "driver.get(url)\n",
    "driver.maximize_window()\n",
    "sleep(2)\n",
    "driver.find_element_by_xpath('//*[@id=\"show-full-search-form\"]').click()\n",
    "sleep(1)\n",
    "driver.find_element_by_xpath('//*[@id=\"entity-full-form\"]').send_keys(company_name)\n",
    "sleep(1)\n",
    "driver.find_element_by_xpath('//*[@id=\"search\"]').click()\n",
    "sleep(1)\n",
    "driver.find_element_by_xpath('//*[@id=\"headingTwo2\"]/a').click()\n",
    "sleep(1)\n",
    "driver.find_element_by_xpath('//*[@id=\"collapseTwo2\"]/div/table/tbody/tr[4]/td/a/span[2]').click()\n",
    "sleep(1)\n",
    "driver.find_element_by_xpath('//*[@id=\"hits\"]/table/tbody/tr[1]/td[1]/a').click()\n",
    "sleep(1)\n",
    "driver.find_element_by_xpath('//*[@id=\"open-file\"]/button').click()"
   ]
  }
 ],
 "metadata": {
  "interpreter": {
   "hash": "aee8b7b246df8f9039afb4144a1f6fd8d2ca17a180786b69acc140d282b71a49"
  },
  "kernelspec": {
   "display_name": "Python 3.10.1 64-bit",
   "language": "python",
   "name": "python3"
  },
  "language_info": {
   "codemirror_mode": {
    "name": "ipython",
    "version": 3
   },
   "file_extension": ".py",
   "mimetype": "text/x-python",
   "name": "python",
   "nbconvert_exporter": "python",
   "pygments_lexer": "ipython3",
   "version": "3.10.1"
  },
  "orig_nbformat": 4
 },
 "nbformat": 4,
 "nbformat_minor": 2
}
